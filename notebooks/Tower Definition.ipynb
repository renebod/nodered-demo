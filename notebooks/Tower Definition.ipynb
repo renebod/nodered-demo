{
 "cells": [
  {
   "cell_type": "code",
   "execution_count": 1,
   "metadata": {
    "scrolled": false
   },
   "outputs": [
    {
     "name": "stdout",
     "output_type": "stream",
     "text": [
      "This document is the definition for a Functional Tower Request\n",
      "  payload.requestor: Pietje Puk\n",
      "  payload.request_date: \n",
      "  magic_word: Sales\n",
      "\n",
      "\n",
      "The technical object that is added is Add Hosts\n",
      "\n",
      "{'func_spec_type': 'inventories',\n",
      " 'hosts': [{'Name': 'APOLLO5289'}, {'Name': 'APOLLO5290'}]}\n",
      "\n",
      "\n",
      "The technical object that is added is Add Organization\n",
      "\n",
      "{'description': 'ACME {{magic_word}} Organization',\n",
      " 'func_spec_type': 'organization',\n",
      " 'name': 'ACME Inc.'}\n",
      "\n",
      "\n",
      "The technical object that is added is Add Credentials\n",
      "\n",
      "{'func_spec_type': 'scm_credential',\n",
      " 'kind': 'scm',\n",
      " 'name': 'GitLab',\n",
      " 'password': 'secret'}\n",
      "\n",
      "\n"
     ]
    }
   ],
   "source": [
    "import json\n",
    "from pprint import pprint\n",
    "\n",
    "with open('flows/tower.json') as json_file:\n",
    "    data_structure = json.load(json_file)\n",
    "    \n",
    "for data in data_structure:\n",
    "    if data['type'] == 'inject':\n",
    "        print(\"This document is the definition for a \" + data['name'])\n",
    "        for prop in data['props']:\n",
    "            print(\"  \" + prop['p'] + \": \" + prop['v'])\n",
    "        print(\"\\n\")\n",
    "\n",
    "for data in data_structure:\n",
    "    if data['type'] == 'template':\n",
    "        print(\"The technical object that is added is \" + data['name'] + \"\\n\")\n",
    "        pprint(json.loads(data['template']))\n",
    "        print(\"\\n\")"
   ]
  }
 ],
 "metadata": {
  "kernelspec": {
   "display_name": "Python 3",
   "language": "python",
   "name": "python3"
  },
  "language_info": {
   "codemirror_mode": {
    "name": "ipython",
    "version": 3
   },
   "file_extension": ".py",
   "mimetype": "text/x-python",
   "name": "python",
   "nbconvert_exporter": "python",
   "pygments_lexer": "ipython3",
   "version": "3.8.3"
  }
 },
 "nbformat": 4,
 "nbformat_minor": 4
}
